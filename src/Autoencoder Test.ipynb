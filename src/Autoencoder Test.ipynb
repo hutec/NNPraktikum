{
 "cells": [
  {
   "cell_type": "code",
   "execution_count": 86,
   "metadata": {
    "collapsed": true
   },
   "outputs": [],
   "source": [
    "from data.mnist_seven import MNISTSeven\n",
    "\n",
    "from model.denoising_ae import DenoisingAutoEncoder\n",
    "from model.mlp import MultilayerPerceptron \n",
    "\n",
    "from report.evaluator import Evaluator\n",
    "from report.performance_plot import PerformancePlot\n",
    "\n",
    "import numpy as np\n",
    "\n",
    "import matplotlib.pyplot as plt\n",
    "import matplotlib.cm as cm\n",
    "import pylab"
   ]
  },
  {
   "cell_type": "code",
   "execution_count": 12,
   "metadata": {
    "collapsed": true
   },
   "outputs": [],
   "source": [
    "%matplotlib inline"
   ]
  },
  {
   "cell_type": "code",
   "execution_count": null,
   "metadata": {
    "collapsed": false
   },
   "outputs": [
    {
     "name": "stdout",
     "output_type": "stream",
     "text": [
      "Loading data from ../data/mnist_seven.csv...\n",
      "Data loaded.\n",
      "\n",
      "Autoencoder  has been training..\n",
      "Training epoch 1/10..\n"
     ]
    }
   ],
   "source": [
    "data = MNISTSeven(\"../data/mnist_seven.csv\", 3000, 1000, 1000,\n",
    "                      one_hot=False)\n",
    "\n",
    "    # NOTE:\n",
    "    # Other 1-digit classifiers do not make sense now for comparison purpose\n",
    "    # So you should comment them out, let alone the MLP training and evaluation\n",
    "\n",
    "    # Train the classifiers #\n",
    "    # print(\"=========================\")\n",
    "    # print(\"Training the autoencoder..\")\n",
    "\n",
    "myDAE = DenoisingAutoEncoder(data.training_set,\n",
    "                             data.validation_set,\n",
    "                             data.test_set,\n",
    "                             hidden_units=100,\n",
    "                             corruption=0.4,\n",
    "                             learning_rate=0.1, # prev: 0.05\n",
    "                             epochs=10)\n",
    "print(\"\\nAutoencoder  has been training..\")\n",
    "myDAE.train()\n",
    "print(\"Done..\")"
   ]
  },
  {
   "cell_type": "code",
   "execution_count": 99,
   "metadata": {
    "collapsed": false
   },
   "outputs": [],
   "source": [
    "def show_test(index):\n",
    "    f = pylab.figure()\n",
    "    f.add_subplot(2, 1, 1)\n",
    "    pylab.imshow(np.delete(myDAE.test_set.input[index], 0).reshape(28,28), cmap=cm.Greys_r)\n",
    "                \n",
    "    myDAE._feed_forward(myDAE.test_set.input[index])\n",
    "    f.add_subplot(2, 1, 2) \n",
    "    pylab.imshow(myDAE._get_output_layer().outp.reshape(28,28), cmap=cm.Greys_r)\n",
    "    pylab.show()"
   ]
  },
  {
   "cell_type": "code",
   "execution_count": 106,
   "metadata": {
    "collapsed": false
   },
   "outputs": [
    {
     "data": {
      "image/png": "[encoded data removed]",
      "text/plain": [
       "<matplotlib.figure.Figure at 0x7f7d795ac150>"
      ]
     },
     "metadata": {},
     "output_type": "display_data"
    }
   ],
   "source": [
    "show_test(52)"
   ]
  }
 ],
 "metadata": {
  "kernelspec": {
   "display_name": "Python 2",
   "language": "python",
   "name": "python2"
  },
  "language_info": {
   "codemirror_mode": {
    "name": "ipython",
    "version": 2
   },
   "file_extension": ".py",
   "mimetype": "text/x-python",
   "name": "python",
   "nbconvert_exporter": "python",
   "pygments_lexer": "ipython2",
   "version": "2.7.11+"
  }
 },
 "nbformat": 4,
 "nbformat_minor": 0
}
